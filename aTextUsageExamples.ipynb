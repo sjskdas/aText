{
 "cells": [
  {
   "cell_type": "markdown",
   "metadata": {},
   "source": [
    "# Analysis of Text (aText) is a Natural Language Processing (NLP) package"
   ]
  },
  {
   "cell_type": "markdown",
   "metadata": {},
   "source": [
    "The package includes most fundamental aspects of deep linguistics processing:\n",
    "\n",
    "- parsing (tokenization, stemming, POS tagging)\n",
    "- named-entity extraction\n",
    "- co-reference resolution\n",
    "- supervised classications (NBC, kNBC, SVM, Fisher Kernel)\n",
    "- unsupervised classifications (LSA, pLSA, LDA)\n",
    "- sentiment and social network analyses\n",
    "- text summarization at the sentence and clauses levels\n",
    "- subject-verb-object triple extraction\n",
    "- web-scraping and social media analyses (Facebook, Twitter)\n",
    "\n",
    "The original package has been written in platform-independent Java with a graphical user interface and made accessible via  API to the jar file. A Python wrapper has been added to expose most of the functions to data scientists and engineers. The code in this file provides some example usage of the package aText - basic sentiment analysis, sentence-level summarization, and Naive Bayesian Classifer (NBC).\n",
    "\n",
    "Requirements: Java 1.8 installed, packages py4j, requests, and subprocess, 400MB of space in the Python package directory."
   ]
  },
  {
   "cell_type": "code",
   "execution_count": null,
   "metadata": {},
   "outputs": [],
   "source": []
  },
  {
   "cell_type": "code",
   "execution_count": 10,
   "metadata": {},
   "outputs": [
    {
     "name": "stdout",
     "output_type": "stream",
     "text": [
      "C:\\Users\\sjskd\\Anaconda3\\python.exe\n",
      "C:\\Users\\sjskd\\Anaconda3\n"
     ]
    }
   ],
   "source": [
    "# pip install atext\n",
    "import aText\n",
    "\n",
    "import os.path\n",
    "import sys\n",
    "print(sys.executable)\n",
    "python_dir, python_exe = os.path.split(sys.executable)\n",
    "print(python_dir)"
   ]
  },
  {
   "cell_type": "code",
   "execution_count": 14,
   "metadata": {},
   "outputs": [
    {
     "name": "stdout",
     "output_type": "stream",
     "text": [
      "aText started\n"
     ]
    },
    {
     "data": {
      "text/plain": [
       "'This is a test!'"
      ]
     },
     "execution_count": 14,
     "metadata": {},
     "output_type": "execute_result"
    }
   ],
   "source": [
    "# first usage of aText takes time to download some necessary files\n",
    "# make sure to have write permission for the Lib/site-package directory\n",
    "aText.start_atext()\n",
    "aText.test()"
   ]
  },
  {
   "cell_type": "code",
   "execution_count": 3,
   "metadata": {},
   "outputs": [],
   "source": [
    "from py4j.java_gateway import JavaGateway\n",
    "gateway = JavaGateway()                 # connect to the JV\n",
    "misc_app = gateway.entry_point          # get the an application instance"
   ]
  },
  {
   "cell_type": "code",
   "execution_count": 15,
   "metadata": {},
   "outputs": [
    {
     "name": "stdout",
     "output_type": "stream",
     "text": [
      "5 8\n",
      "13\n"
     ]
    }
   ],
   "source": [
    "# addition routine to test that the JVM is spawned\n",
    "random = gateway.jvm.java.util.Random()   # create a java.util.Random instance\n",
    "number1 = random.nextInt(10)              # call the Random.nextInt method\n",
    "number2 = random.nextInt(10)\n",
    "print(number1, number2)\n",
    "value = misc_app.addition(number1, number2) # call the addition method\n",
    "print(value)"
   ]
  },
  {
   "cell_type": "code",
   "execution_count": 5,
   "metadata": {},
   "outputs": [
    {
     "name": "stdout",
     "output_type": "stream",
     "text": [
      "Positive Negative\n",
      "0.9 0.09999999999999998\n",
      "0.2222222222222222 0.7777777777777778\n"
     ]
    }
   ],
   "source": [
    "# sentiment method\n",
    "good_review = \"Wonderful for families - a find   We were lucky enough to learn about the Hotel Suisse from friends in our hometown and it was such a treat  We loved staying there  The location could not be better and the family room was huge  Our friends stayed at the Hassler during the smae time up the block and our room was 3 times the size  I loved the security the place had as well with only a few guests at a time and our kids loved Rome  The hotel is a little tricky as it is on the second floor of a mixed use building after several design shops  This hotel was the best value of all of the hotels we stayed in on our 3 week trip  I would not go back to Rome and not stay at the Suisse  \"\n",
    "topics = misc_app.sentiment_topics()\n",
    "print(*topics)\n",
    "prob = misc_app.sentiment(good_review) # call the sentiment method\n",
    "print(*prob)\n",
    "bad_review = \"awful  had to move out   This was our third trip to Rome in the last year and we thought we would stay a bit nearer the centre of the city  The Forum is not a four star hotel by any stretch of the imagination  We were given a room on the fourth floor  which we thought would be good because of the view over the forum site  Unfortunately the air conditioning did not work  and this necessitated the windows being left open at night  The street noise and bar opposite made sleeping difficult  The room was cramped  the breakfast very sub-standard  The second night we were awoken at midnight by staff scraping tables across the restaurant floor until the early hours of the morning  despite several complaints to the hotel desk  We arranged to move hotel and the final straw was the presence of a large number of homeless people outside the hotel who used the area as a toilet and dosshouse  we saw several rats running around  Do yourselves a favour  look elsewhere\"\n",
    "prob = misc_app.sentiment(bad_review) # call the sentiment method\n",
    "print(*prob)"
   ]
  },
  {
   "cell_type": "code",
   "execution_count": 7,
   "metadata": {},
   "outputs": [
    {
     "name": "stdout",
     "output_type": "stream",
     "text": [
      "TOPICS: I, my money, someone\r\n",
      "\r\n",
      "SUMMARY: This machine took my money, then shut down.  I went inside the bank to complain and when I went back to this machine, the money door on this ATM was wide open with my money fully exposed and if someone had used this ATM behind me, my money would have stolen.  \n"
     ]
    }
   ],
   "source": [
    "# summarization method\n",
    "input_text = \"On two separate occasions, when making a deposit on two separate HSBC ATMs, \\\n",
    "the first malfunction took place at their Ocean Side branch, in Long Island, NY. \\\n",
    "This machine took my money, then shut down. I went inside the bank to complain and \\\n",
    "when I went back to this machine, the money door on this ATM was wide open with my \\\n",
    "money fully exposed and if someone had used this ATM behind me, my money would have \\\n",
    "stolen. The 2nd malfunction took place recently on 08/23/14. I made a sizable deposit at 10 PM. This ATM located in Lynbrook Long Island, NY took my deposit, shut down and showed a error message and didn't deposit my money and gave me a blank receipt. I contacted HSBC Security. They claim they made a report of this (I'm not sure if they did or not). Anyway, they also said it would take up 10 business days to expect any help in this matter. I'm still waiting for help. I'm done with this lousy bank. THIS BANK IS A DOG!\"\n",
    "s = misc_app.summary(input_text, 25, 3) # call the summary method\n",
    "print(s)"
   ]
  },
  {
   "cell_type": "code",
   "execution_count": 8,
   "metadata": {},
   "outputs": [
    {
     "name": "stdout",
     "output_type": "stream",
     "text": [
      "Beer Whiskey Wine\n",
      "56\n",
      "0.10373405244544728 3.7344258880361027e-06 0.8962622131286646\n",
      "0.9652509652509654 0.017374517374517378 0.017374517374517378\n"
     ]
    }
   ],
   "source": [
    "# NBC classifier\n",
    "excelFile = 'C:/MY FILES/Java/aText/python-package/package/aText/AlcoholPython.xlsx'\n",
    "# call the nbc with the excel filename, sheet name, MI threshold\n",
    "# MI threshold can vary between 0 to 1 - higher value means lower number of nodes, 0.0 keeps all\n",
    "misc_app.NBC(excelFile, \"Training\", 0.0) \n",
    "classes = misc_app.nbc_classes()\n",
    "print(*classes)\n",
    "size = misc_app.nbc_size()\n",
    "print(size)\n",
    "input_text = \"Italy is the largest producer wine\"\n",
    "prob = misc_app.nbc_infer(input_text)\n",
    "print(*prob)\n",
    "input_text = \"Whiskey has higher alcohol content than wine\"\n",
    "prob = misc_app.nbc_infer(input_text)\n",
    "print(*prob)"
   ]
  },
  {
   "cell_type": "code",
   "execution_count": 12,
   "metadata": {},
   "outputs": [],
   "source": [
    "# kill the spawned JVM process\n",
    "aText.stop_atext()"
   ]
  },
  {
   "cell_type": "code",
   "execution_count": null,
   "metadata": {},
   "outputs": [],
   "source": []
  }
 ],
 "metadata": {
  "kernelspec": {
   "display_name": "Python 3",
   "language": "python",
   "name": "python3"
  },
  "language_info": {
   "codemirror_mode": {
    "name": "ipython",
    "version": 3
   },
   "file_extension": ".py",
   "mimetype": "text/x-python",
   "name": "python",
   "nbconvert_exporter": "python",
   "pygments_lexer": "ipython3",
   "version": "3.6.8"
  }
 },
 "nbformat": 4,
 "nbformat_minor": 2
}
